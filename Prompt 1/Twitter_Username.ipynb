{
 "cells": [
  {
   "cell_type": "code",
   "execution_count": 1,
   "id": "c65444da",
   "metadata": {},
   "outputs": [],
   "source": [
    "##\n",
    "#Use Tweepy(search_users API) to search users for the keywords [sol,eth,btc,algo]\n",
    "#This API doesnt do an exact match, it sometimes returns irrelevant usernames\n",
    "#Each user's followers_count and description are fetched from the API response\n",
    "#This API fetches maximum of 1000 records per call\n",
    "##\n",
    "\n",
    "import tweepy\n",
    "import pandas as pd\n",
    "\n",
    "consumer_key = \"ZkoxSlIeJAA1D1IAOMDDjU86r\"\n",
    "consumer_secret = \"YQGPWddleCIq5pl7WtryUdGAZ8Cb7OuubFmbwrr9fIHLzzDjy7\"\n",
    "access_token = \"1328488124155121665-gxrvcEBNfahpvbel3cIX9OLBgiOxjU\"\n",
    "access_token_secret = \"sTVJNm0BQ7mRrTQaobH1XNv9yEB5lymLINXV6aVBWkLf6\"\n",
    "\n",
    "auth = tweepy.OAuthHandler(consumer_key, consumer_secret)\n",
    "auth.set_access_token(access_token, access_token_secret)\n",
    "api = tweepy.API(auth)\n",
    "\n",
    "search_list = ['sol','eth','btc','algo']\n",
    "twitter_username = []\n",
    "username_followers = []\n",
    "username_bio = []\n",
    "user_type = []\n",
    "for username in search_list: \n",
    "    for user in tweepy.Cursor(api.search_users,q = username).items(1000):\n",
    "        twitter_username.append(user.screen_name)\n",
    "        username_followers.append(user.followers_count)\n",
    "        username_bio.append(user.description)\n",
    "        user_type.append(username)"
   ]
  },
  {
   "cell_type": "code",
   "execution_count": 2,
   "id": "6dd6eb10",
   "metadata": {},
   "outputs": [
    {
     "data": {
      "text/plain": [
       "(4000, 4)"
      ]
     },
     "execution_count": 2,
     "metadata": {},
     "output_type": "execute_result"
    }
   ],
   "source": [
    "#Create DATAFRAME from the response arrays\n",
    "\n",
    "df = pd.DataFrame({'username': twitter_username, \"followercount\" : username_followers,\"Bio\" : username_bio,\"Type\" : user_type})\n",
    "df.shape"
   ]
  },
  {
   "cell_type": "code",
   "execution_count": 3,
   "id": "d3726517",
   "metadata": {},
   "outputs": [],
   "source": [
    "#use regex to create list of usernames ending with [sol,eth,btc,algo] from the response\n",
    "\n",
    "import re\n",
    "regex_check = ['([a-zA-Z0-9_]{1,11}sol$)','([a-zA-Z0-9_]{1,11}eth$)','([a-zA-Z0-9_]{1,11}btc$)','([a-zA-Z0-9_]{1,11}algo$)']\n",
    "matched_username = []\n",
    "\n",
    "for item in regex_check:    \n",
    "    matching_username = list(filter(lambda x: re.match(item, x), twitter_username))\n",
    "    matched_username.append(matching_username)\n",
    "\n",
    "username_flatlist = [x for xs in matched_username for x in xs]"
   ]
  },
  {
   "cell_type": "code",
   "execution_count": 4,
   "id": "201516b3",
   "metadata": {},
   "outputs": [],
   "source": [
    "#filter dataframe username column based on the regex matched usernames and write it to a csv file\n",
    "\n",
    "df_new = df[df['username'].isin(username_flatlist)]\n",
    "df_new = df_new.sort_values(['Type','followercount'],ascending=False).groupby('Type').head(100)\n",
    "df_new.to_csv('twitter_username.csv')"
   ]
  }
 ],
 "metadata": {
  "kernelspec": {
   "display_name": "Python 3 (ipykernel)",
   "language": "python",
   "name": "python3"
  },
  "language_info": {
   "codemirror_mode": {
    "name": "ipython",
    "version": 3
   },
   "file_extension": ".py",
   "mimetype": "text/x-python",
   "name": "python",
   "nbconvert_exporter": "python",
   "pygments_lexer": "ipython3",
   "version": "3.9.6"
  }
 },
 "nbformat": 4,
 "nbformat_minor": 5
}
