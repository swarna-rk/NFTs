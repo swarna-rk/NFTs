{
 "cells": [
  {
   "cell_type": "code",
   "execution_count": 13,
   "id": "ed1d5dcb",
   "metadata": {},
   "outputs": [],
   "source": [
    "##\n",
    "#Use Tweepy API (search_recent_tweets) to fetch tweets for the period 6/29-7/6. \n",
    "#Limitation with this API is, it can fetch only a week's tweets\n",
    "#I had no access to GEO tags, so was not able to fetch GEO coordinates\n",
    "# Ran these codes for Hashtags - [#nftlaunchpqd,#AlgorandNFTs,#CELONFTs,#PolygonNFTs,#NEARNFTs]\n",
    "##\n",
    "import tweepy\n",
    "import time\n",
    "import pandas as pd\n",
    "\n",
    "client = tweepy.Client(bearer_token='dd', wait_on_rate_limit=True)\n",
    "\n",
    "genadrop_tweets = []\n",
    "paginator = tweepy.Paginator(client.search_recent_tweets, \n",
    "                                 query = '#NEARNFTs -is:retweet lang:en',\n",
    "                                 user_fields = ['username', 'public_metrics', 'description', 'location'],\n",
    "                                 tweet_fields = ['created_at', 'geo', 'public_metrics', 'text'],\n",
    "                                 expansions = 'author_id',\n",
    "                              max_results=100,limit = 10)\n",
    "\n",
    "for page in paginator:\n",
    "    genadrop_tweets.append(page)"
   ]
  },
  {
   "cell_type": "code",
   "execution_count": 14,
   "id": "2684af19",
   "metadata": {},
   "outputs": [],
   "source": [
    "##\n",
    "# Fetch relevant info from Response and frame DATAFRAME\n",
    "#Fetch user collection from response and retrieve user-specific info\n",
    "#Save the dataframe to csv file - Running these codes for each hashtags will give five csv files\n",
    "##\n",
    "result = []\n",
    "user_dict = {}\n",
    "\n",
    "for response in genadrop_tweets:   \n",
    "    if(response.data != None):\n",
    "        for user in response.includes['users']:\n",
    "            user_dict[user.id] = {'username': user.username, \n",
    "                                  'followers': user.public_metrics['followers_count'],\n",
    "                                  'tweets': user.public_metrics['tweet_count'],\n",
    "                                  'description': user.description,\n",
    "                                  'location': user.location\n",
    "                                 }\n",
    "        for tweet in response.data:        \n",
    "            author_info = user_dict[tweet.author_id] \n",
    "            tweet_text = tweet.text.strip().encode('ascii','ignore')\n",
    "            tweet_text = b''.join(tweet_text.splitlines())\n",
    "            \n",
    "            result.append({'author_id': tweet.author_id, \n",
    "                           'username': author_info['username'],\n",
    "                           'author_followers': author_info['followers'],\n",
    "                           'author_tweets': author_info['tweets'],\n",
    "                           'author_description': author_info['description'],\n",
    "                           'author_location': author_info['location'],\n",
    "                           'text': tweet_text,\n",
    "                           'created_at': tweet.created_at,\n",
    "                           'retweets': tweet.public_metrics['retweet_count'],\n",
    "                           'replies': tweet.public_metrics['reply_count'],\n",
    "                           'likes': tweet.public_metrics['like_count'],\n",
    "                           'quote_count': tweet.public_metrics['quote_count']\n",
    "                          })\n",
    "\n",
    "\n",
    "        df = pd.DataFrame(result)\n",
    "        df.to_csv('genadroptweets_1_NEARNFTs_2.csv', encoding='utf-8', index=False)"
   ]
  },
  {
   "cell_type": "code",
   "execution_count": 15,
   "id": "0e387437",
   "metadata": {},
   "outputs": [
    {
     "data": {
      "text/plain": [
       "(2410, 13)"
      ]
     },
     "execution_count": 15,
     "metadata": {},
     "output_type": "execute_result"
    }
   ],
   "source": [
    "##\n",
    "# Combine all five csv files and save as one.\n",
    "##\n",
    "import os\n",
    "from glob import glob\n",
    "import pandas as pd\n",
    "\n",
    "direc = \"C:\\\\WWWWW\\\\NFTs\"\n",
    "searchterm = \"Tweepy\"\n",
    "csv_files = glob(os.path.join(direc, searchterm, '*.csv'))\n",
    "\n",
    "data = []\n",
    "for csv in csv_files:\n",
    "    frame = pd.read_csv(csv)\n",
    "    frame['filename'] = os.path.basename(csv)\n",
    "    data.append(frame)\n",
    "\n",
    "tweets_df = pd.concat(data).reset_index(drop = True)\n",
    "tweets_df.shape"
   ]
  },
  {
   "cell_type": "code",
   "execution_count": 16,
   "id": "304f4adb",
   "metadata": {},
   "outputs": [],
   "source": [
    "tweets_df.to_csv('NFTTweets_Week.csv')"
   ]
  }
 ],
 "metadata": {
  "kernelspec": {
   "display_name": "Python 3 (ipykernel)",
   "language": "python",
   "name": "python3"
  },
  "language_info": {
   "codemirror_mode": {
    "name": "ipython",
    "version": 3
   },
   "file_extension": ".py",
   "mimetype": "text/x-python",
   "name": "python",
   "nbconvert_exporter": "python",
   "pygments_lexer": "ipython3",
   "version": "3.9.6"
  }
 },
 "nbformat": 4,
 "nbformat_minor": 5
}
